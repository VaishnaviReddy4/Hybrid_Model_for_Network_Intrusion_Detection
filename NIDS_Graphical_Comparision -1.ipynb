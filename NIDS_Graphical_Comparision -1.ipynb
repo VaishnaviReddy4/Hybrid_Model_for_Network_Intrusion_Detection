{
 "cells": [
  {
   "cell_type": "code",
   "execution_count": 1,
   "metadata": {
    "_cell_guid": "b1076dfc-b9ad-4769-8c92-a6c4dae69d19",
    "_uuid": "8f2839f25d086af736a60e9eeb907d3b93b6e0e5"
   },
   "outputs": [
    {
     "name": "stderr",
     "output_type": "stream",
     "text": [
      "Using TensorFlow backend.\n"
     ]
    }
   ],
   "source": [
    "# import required packages\n",
    "\n",
    "import pandas as pd \n",
    "import numpy as np\n",
    "import os, gc, time, warnings\n",
    "\n",
    "from scipy.misc import imread\n",
    "from scipy import sparse\n",
    "import scipy.stats as ss\n",
    "from scipy.sparse import csr_matrix, hstack, vstack\n",
    "\n",
    "import matplotlib.pyplot as plt, matplotlib.gridspec as gridspec \n",
    "import seaborn as sns\n",
    "from wordcloud import WordCloud ,STOPWORDS\n",
    "from PIL import Image\n",
    "import matplotlib_venn as venn\n",
    "import pydot, graphviz\n",
    "from IPython.display import Image\n",
    "\n",
    "import string, re, nltk, collections\n",
    "from nltk.util import ngrams\n",
    "from nltk.corpus import stopwords\n",
    "import spacy\n",
    "from nltk import pos_tag\n",
    "from nltk.stem import PorterStemmer\n",
    "from nltk.stem.wordnet import WordNetLemmatizer \n",
    "from nltk.tokenize import word_tokenize\n",
    "from nltk.tokenize import TweetTokenizer   \n",
    "\n",
    "from sklearn.feature_extraction.text import TfidfVectorizer, CountVectorizer, HashingVectorizer\n",
    "from sklearn.decomposition import TruncatedSVD\n",
    "from sklearn.base import BaseEstimator, ClassifierMixin\n",
    "from sklearn.utils.validation import check_X_y, check_is_fitted\n",
    "from sklearn.linear_model import LogisticRegression, SGDClassifier\n",
    "from sklearn.svm import SVC\n",
    "from sklearn import metrics\n",
    "from sklearn.feature_selection import SelectFromModel\n",
    "from sklearn.preprocessing import StandardScaler, LabelEncoder\n",
    "from sklearn.metrics import precision_score, recall_score, f1_score, accuracy_score\n",
    "from sklearn.model_selection import StratifiedKFold\n",
    "from sklearn.model_selection import train_test_split\n",
    "\n",
    "import tensorflow as tf\n",
    "import keras.backend as K\n",
    "from keras.models import Model, Sequential\n",
    "from keras.utils import plot_model\n",
    "from keras.layers import Input, Dense, Embedding, SpatialDropout1D, concatenate, BatchNormalization\n",
    "from keras.layers import GRU, LSTM, Bidirectional, GlobalAveragePooling1D, GlobalMaxPooling1D, Conv1D\n",
    "from keras.preprocessing import text, sequence\n",
    "from keras.callbacks import Callback"
   ]
  },
  {
   "cell_type": "code",
   "execution_count": 2,
   "metadata": {},
   "outputs": [],
   "source": [
    "# settings\n",
    "\n",
    "os.environ['OMP_NUM_THREADS'] = '4'\n",
    "start_time = time.time()\n",
    "color = sns.color_palette()\n",
    "sns.set_style(\"dark\")\n",
    "warnings.filterwarnings(\"ignore\")\n",
    "\n",
    "eng_stopwords = set(stopwords.words(\"english\"))\n",
    "lem = WordNetLemmatizer()\n",
    "ps = PorterStemmer()\n",
    "tokenizer = TweetTokenizer()\n",
    "\n",
    "%matplotlib inline"
   ]
  },
  {
   "cell_type": "code",
   "execution_count": 3,
   "metadata": {},
   "outputs": [
    {
     "name": "stdout",
     "output_type": "stream",
     "text": [
      "['nslkdd-dataset', 'fasttext']\n"
     ]
    }
   ],
   "source": [
    "# print the names of files available in the root directory\n",
    "print(os.listdir('../input'))"
   ]
  },
  {
   "cell_type": "code",
   "execution_count": 4,
   "metadata": {},
   "outputs": [],
   "source": [
    "# import the dataset\n",
    "\n",
    "train = pd.read_csv('../input/nslkdd-dataset/KDDTrain.csv')\n",
    "test = pd.read_csv('../input/nslkdd-dataset/KDDTest.csv')"
   ]
  },
  {
   "cell_type": "code",
   "execution_count": 5,
   "metadata": {},
   "outputs": [
    {
     "name": "stdout",
     "output_type": "stream",
     "text": [
      "Training data information...\n",
      "<class 'pandas.core.frame.DataFrame'>\n",
      "RangeIndex: 125973 entries, 0 to 125972\n",
      "Data columns (total 43 columns):\n",
      "duration                       125973 non-null int64\n",
      "protocol_type                  125973 non-null object\n",
      "service                        125973 non-null object\n",
      "flag                           125973 non-null object\n",
      "src_bytes                      125973 non-null int64\n",
      "dst_bytes                      125973 non-null int64\n",
      "land                           125973 non-null int64\n",
      "wrong_fragment                 125973 non-null int64\n",
      "urgent                         125973 non-null int64\n",
      "hot                            125973 non-null int64\n",
      "num_failed_logins              125973 non-null int64\n",
      "logged_in                      125973 non-null int64\n",
      "num_compromised                125973 non-null int64\n",
      "root_shell                     125973 non-null int64\n",
      "su_attempted                   125973 non-null int64\n",
      "num_root                       125973 non-null int64\n",
      "num_file_creations             125973 non-null int64\n",
      "num_shells                     125973 non-null int64\n",
      "num_access_files               125973 non-null int64\n",
      "num_outbound_cmds              125973 non-null int64\n",
      "is_hot_login                   125973 non-null int64\n",
      "is_guest_login                 125973 non-null int64\n",
      "count                          125973 non-null int64\n",
      "srv_count                      125973 non-null int64\n",
      "serror_rate                    125973 non-null float64\n",
      "srv_serror_rate                125973 non-null float64\n",
      "rerror_rate                    125973 non-null float64\n",
      "srv_rerror_rate                125973 non-null float64\n",
      "same_srv_rate                  125973 non-null float64\n",
      "diff_srv_rate                  125973 non-null float64\n",
      "srv_diff_host_rate             125973 non-null float64\n",
      "dst_host_count                 125973 non-null int64\n",
      "dst_host_srv_count             125973 non-null int64\n",
      "dst_host_same_srv_rate         125973 non-null float64\n",
      "dst_host_diff_srv_rate         125973 non-null float64\n",
      "dst_host_same_src_port_rate    125973 non-null float64\n",
      "dst_host_srv_diff_host_rate    125973 non-null float64\n",
      "dst_host_serror_rate           125973 non-null float64\n",
      "dst_host_srv_serror_rate       125973 non-null float64\n",
      "dst_host_rerror_rate           125973 non-null float64\n",
      "dst_host_srv_rerror_rate       125973 non-null float64\n",
      "attack_class                   125973 non-null object\n",
      "num_learners                   125973 non-null int64\n",
      "dtypes: float64(15), int64(24), object(4)\n",
      "memory usage: 41.3+ MB\n"
     ]
    }
   ],
   "source": [
    "print(\"Training data information...\")\n",
    "train.info()"
   ]
  },
  {
   "cell_type": "code",
   "execution_count": 6,
   "metadata": {},
   "outputs": [
    {
     "name": "stdout",
     "output_type": "stream",
     "text": [
      "Test data information...\n",
      "<class 'pandas.core.frame.DataFrame'>\n",
      "RangeIndex: 22544 entries, 0 to 22543\n",
      "Data columns (total 43 columns):\n",
      "duration                       22544 non-null int64\n",
      "protocol_type                  22544 non-null object\n",
      "service                        22544 non-null object\n",
      "flag                           22544 non-null object\n",
      "src_bytes                      22544 non-null int64\n",
      "dst_bytes                      22544 non-null int64\n",
      "land                           22544 non-null int64\n",
      "wrong_fragment                 22544 non-null int64\n",
      "urgent                         22544 non-null int64\n",
      "hot                            22544 non-null int64\n",
      "num_failed_logins              22544 non-null int64\n",
      "logged_in                      22544 non-null int64\n",
      "num_compromised                22544 non-null int64\n",
      "root_shell                     22544 non-null int64\n",
      "su_attempted                   22544 non-null int64\n",
      "num_root                       22544 non-null int64\n",
      "num_file_creations             22544 non-null int64\n",
      "num_shells                     22544 non-null int64\n",
      "num_access_files               22544 non-null int64\n",
      "num_outbound_cmds              22544 non-null int64\n",
      "is_hot_login                   22544 non-null int64\n",
      "is_guest_login                 22544 non-null int64\n",
      "count                          22544 non-null int64\n",
      "srv_count                      22544 non-null int64\n",
      "serror_rate                    22544 non-null float64\n",
      "srv_serror_rate                22544 non-null float64\n",
      "rerror_rate                    22544 non-null float64\n",
      "srv_rerror_rate                22544 non-null float64\n",
      "same_srv_rate                  22544 non-null float64\n",
      "diff_srv_rate                  22544 non-null float64\n",
      "srv_diff_host_rate             22544 non-null float64\n",
      "dst_host_count                 22544 non-null int64\n",
      "dst_host_srv_count             22544 non-null int64\n",
      "dst_host_same_srv_rate         22544 non-null float64\n",
      "dst_host_diff_srv_rate         22544 non-null float64\n",
      "dst_host_same_src_port_rate    22544 non-null float64\n",
      "dst_host_srv_diff_host_rate    22544 non-null float64\n",
      "dst_host_serror_rate           22544 non-null float64\n",
      "dst_host_srv_serror_rate       22544 non-null float64\n",
      "dst_host_rerror_rate           22544 non-null float64\n",
      "dst_host_srv_rerror_rate       22544 non-null float64\n",
      "attack_class                   22544 non-null object\n",
      "num_learners                   22544 non-null int64\n",
      "dtypes: float64(15), int64(24), object(4)\n",
      "memory usage: 7.4+ MB\n"
     ]
    }
   ],
   "source": [
    "print('Test data information...')\n",
    "test.info()"
   ]
  },
  {
   "cell_type": "markdown",
   "metadata": {},
   "source": [
    "<div>\n",
    "    <h3> Feature Engineering </h3>\n",
    "    <p> We will extract useful features from the existing ones, and convert some features into formats suitable for training on different categories of models. </p>\n",
    "</div>"
   ]
  },
  {
   "cell_type": "code",
   "execution_count": 7,
   "metadata": {},
   "outputs": [],
   "source": [
    "# obtaining a new target variable for each attack class\n",
    "\n",
    "attack_classes = ['back', 'buffer_overflow', 'ftp_write', 'guess_passwd', 'imap', 'ipsweep', 'land', \n",
    "                  'loadmodule', 'multihop', 'neptune', 'nmap', 'normal', 'perl', 'phf', 'pod', 'portsweep',\n",
    "                  'rootkit', 'satan', 'smurf', 'spy', 'teardrop', 'warezclient', 'warezmaster']\n",
    "\n",
    "train_label = pd.DataFrame()\n",
    "test_label = pd.DataFrame()\n",
    "\n",
    "for attack_type in attack_classes:\n",
    "    train_label[attack_type] = train['attack_class'].apply(lambda x : int(x == attack_type))\n",
    "    test_label[attack_type] = test['attack_class'].apply(lambda x : int(x == attack_type))"
   ]
  },
  {
   "cell_type": "code",
   "execution_count": 8,
   "metadata": {},
   "outputs": [],
   "source": [
    "# extracting numerical labels from categorical data\n",
    "\n",
    "encoder = LabelEncoder()\n",
    "\n",
    "train['protocol_type_label'] = encoder.fit_transform(train['protocol_type'])\n",
    "test['protocol_type_label'] = encoder.fit_transform(test['protocol_type'])\n",
    "\n",
    "train['service_label'] = encoder.fit_transform(train['service'])\n",
    "test['service_label'] = encoder.fit_transform(test['service'])\n",
    "\n",
    "train['flag_label'] = encoder.fit_transform(train['flag'])\n",
    "test['flag_label'] = encoder.fit_transform(test['flag'])"
   ]
  },
  {
   "cell_type": "code",
   "execution_count": 9,
   "metadata": {},
   "outputs": [],
   "source": [
    "# removing useless columns\n",
    "\n",
    "train.drop(['attack_class', 'num_learners'], axis = 1, inplace = True)\n",
    "test.drop(['attack_class', 'num_learners'], axis = 1, inplace = True)"
   ]
  },
  {
   "cell_type": "code",
   "execution_count": 10,
   "metadata": {},
   "outputs": [
    {
     "name": "stdout",
     "output_type": "stream",
     "text": [
      "Training data information...\n",
      "<class 'pandas.core.frame.DataFrame'>\n",
      "RangeIndex: 125973 entries, 0 to 125972\n",
      "Data columns (total 44 columns):\n",
      "duration                       125973 non-null int64\n",
      "protocol_type                  125973 non-null object\n",
      "service                        125973 non-null object\n",
      "flag                           125973 non-null object\n",
      "src_bytes                      125973 non-null int64\n",
      "dst_bytes                      125973 non-null int64\n",
      "land                           125973 non-null int64\n",
      "wrong_fragment                 125973 non-null int64\n",
      "urgent                         125973 non-null int64\n",
      "hot                            125973 non-null int64\n",
      "num_failed_logins              125973 non-null int64\n",
      "logged_in                      125973 non-null int64\n",
      "num_compromised                125973 non-null int64\n",
      "root_shell                     125973 non-null int64\n",
      "su_attempted                   125973 non-null int64\n",
      "num_root                       125973 non-null int64\n",
      "num_file_creations             125973 non-null int64\n",
      "num_shells                     125973 non-null int64\n",
      "num_access_files               125973 non-null int64\n",
      "num_outbound_cmds              125973 non-null int64\n",
      "is_hot_login                   125973 non-null int64\n",
      "is_guest_login                 125973 non-null int64\n",
      "count                          125973 non-null int64\n",
      "srv_count                      125973 non-null int64\n",
      "serror_rate                    125973 non-null float64\n",
      "srv_serror_rate                125973 non-null float64\n",
      "rerror_rate                    125973 non-null float64\n",
      "srv_rerror_rate                125973 non-null float64\n",
      "same_srv_rate                  125973 non-null float64\n",
      "diff_srv_rate                  125973 non-null float64\n",
      "srv_diff_host_rate             125973 non-null float64\n",
      "dst_host_count                 125973 non-null int64\n",
      "dst_host_srv_count             125973 non-null int64\n",
      "dst_host_same_srv_rate         125973 non-null float64\n",
      "dst_host_diff_srv_rate         125973 non-null float64\n",
      "dst_host_same_src_port_rate    125973 non-null float64\n",
      "dst_host_srv_diff_host_rate    125973 non-null float64\n",
      "dst_host_serror_rate           125973 non-null float64\n",
      "dst_host_srv_serror_rate       125973 non-null float64\n",
      "dst_host_rerror_rate           125973 non-null float64\n",
      "dst_host_srv_rerror_rate       125973 non-null float64\n",
      "protocol_type_label            125973 non-null int64\n",
      "service_label                  125973 non-null int64\n",
      "flag_label                     125973 non-null int64\n",
      "dtypes: float64(15), int64(26), object(3)\n",
      "memory usage: 42.3+ MB\n"
     ]
    }
   ],
   "source": [
    "print(\"Training data information...\")\n",
    "train.info()"
   ]
  },
  {
   "cell_type": "code",
   "execution_count": 11,
   "metadata": {},
   "outputs": [],
   "source": [
    "# creating dataframes for storing training data for stacked model\n",
    "\n",
    "stacked_train_df = {}\n",
    "stacked_test_df = {}\n",
    "\n",
    "for attack_type in attack_classes:\n",
    "    stacked_train_df[attack_type] = pd.DataFrame()\n",
    "    stacked_test_df[attack_type] = pd.DataFrame()"
   ]
  },
  {
   "cell_type": "code",
   "execution_count": 12,
   "metadata": {},
   "outputs": [],
   "source": [
    "# preparing data for training on models\n",
    "\n",
    "x_train = train.copy(deep = True)\n",
    "x_train.drop(['protocol_type', 'service', 'flag'], axis = 1, inplace = True)\n",
    "\n",
    "x_test = test.copy(deep = True)\n",
    "x_test.drop(['protocol_type', 'service', 'flag'], axis = 1, inplace = True)"
   ]
  },
  {
   "cell_type": "markdown",
   "metadata": {},
   "source": [
    "<div>\n",
    "    <h3>Linear Models</h3>\n",
    "</div>"
   ]
  },
  {
   "cell_type": "code",
   "execution_count": 13,
   "metadata": {},
   "outputs": [],
   "source": [
    "# logistic regression classifier\n",
    "\n",
    "def getLRClf():\n",
    "    clf = LogisticRegression(C = 0.2, solver = 'liblinear')\n",
    "    return clf"
   ]
  },
  {
   "cell_type": "code",
   "execution_count": 14,
   "metadata": {},
   "outputs": [
    {
     "name": "stdout",
     "output_type": "stream",
     "text": [
      "Logistic Regression Classifier...\n",
      "Mean Accuracy score : 0.9754239053290956\n"
     ]
    }
   ],
   "source": [
    "# training on logistic regression classifier\n",
    "\n",
    "lr_accuracy = []\n",
    "\n",
    "for attack_type in attack_classes:\n",
    "    clf = getLRClf()\n",
    "    clf.fit(x_train, train_label[attack_type])\n",
    "    y_pred = clf.predict(x_test)\n",
    "    stacked_train_df[attack_type]['logistic_regression'] = clf.predict(x_train)\n",
    "    stacked_test_df[attack_type]['logistic_regression'] = y_pred\n",
    "    lr_accuracy += [accuracy_score(test_label[attack_type], y_pred)]\n",
    "    \n",
    "mean_lr_accuracy = np.mean(lr_accuracy)\n",
    "    \n",
    "print(\"Logistic Regression Classifier...\")\n",
    "print(\"Mean Accuracy score : \" + str(mean_lr_accuracy))"
   ]
  },
  {
   "cell_type": "code",
   "execution_count": 15,
   "metadata": {},
   "outputs": [],
   "source": [
    "# SGD classifier\n",
    "\n",
    "def getSGDClf():\n",
    "    clf = SGDClassifier(max_iter = 1000, tol = 1e-3, learning_rate = 'optimal')\n",
    "    return clf"
   ]
  },
  {
   "cell_type": "code",
   "execution_count": 16,
   "metadata": {},
   "outputs": [
    {
     "name": "stdout",
     "output_type": "stream",
     "text": [
      "SGD Classifier...\n",
      "Mean Accuracy score : 0.9301134785694447\n"
     ]
    }
   ],
   "source": [
    "# training on SGD classifier\n",
    "\n",
    "sgd_accuracy = []\n",
    "\n",
    "for attack_type in attack_classes:\n",
    "    clf = getSGDClf()\n",
    "    clf.fit(x_train, train_label[attack_type])\n",
    "    y_pred = clf.predict(x_test)\n",
    "    stacked_train_df[attack_type]['sgd'] = clf.predict(x_train)\n",
    "    stacked_test_df[attack_type]['sgd'] = y_pred\n",
    "    sgd_accuracy += [accuracy_score(test_label[attack_type], y_pred)]\n",
    "    \n",
    "mean_sgd_accuracy = np.mean(sgd_accuracy)\n",
    "    \n",
    "print(\"SGD Classifier...\")\n",
    "print(\"Mean Accuracy score : \" + str(mean_sgd_accuracy))"
   ]
  },
  {
   "cell_type": "markdown",
   "metadata": {},
   "source": [
    "<div><h3>Gradient Boosting Decision Tree (GBDT) Ensemble Models</h3></div>"
   ]
  },
  {
   "cell_type": "code",
   "execution_count": 17,
   "metadata": {},
   "outputs": [],
   "source": [
    "# lgbm classifier\n",
    "\n",
    "import lightgbm as lgb\n",
    "\n",
    "def getlgbclf(d_train, valid_sets):\n",
    "    params = {'learning_rate': 0.2, 'application': 'binary', 'num_leaves': 31, 'verbosity': -1,\n",
    "          'bagging_fraction': 0.8, 'feature_fraction': 0.6, 'nthread': 4, 'lambda_l1': 1, 'lambda_l2': 1}\n",
    "    \n",
    "    clf = lgb.train(params, train_set = d_train, num_boost_round = 300, early_stopping_rounds = 100,\n",
    "                    valid_sets = valid_sets, verbose_eval = False)   \n",
    "    \n",
    "    return clf"
   ]
  },
  {
   "cell_type": "code",
   "execution_count": 18,
   "metadata": {},
   "outputs": [
    {
     "name": "stdout",
     "output_type": "stream",
     "text": [
      "LGBM Classifier...\n",
      "Mean Accuracy score : 0.9838017249359706\n"
     ]
    }
   ],
   "source": [
    "# training on lgbm classifier\n",
    "\n",
    "lgb_accuracy = []\n",
    "\n",
    "for attack_type in attack_classes:\n",
    "    d_train = lgb.Dataset(x_train, label = train_label[attack_type])\n",
    "    d_test = lgb.Dataset(x_test, label = test_label[attack_type])\n",
    "    valid_sets = [d_train, d_test]\n",
    "    clf = getlgbclf(d_train, valid_sets)\n",
    "    y_pred = (clf.predict(x_test) >= 0.5).astype(int)\n",
    "    stacked_train_df[attack_type]['lgbm'] = (clf.predict(x_train) >= 0.5).astype(int)\n",
    "    stacked_test_df[attack_type]['lgbm'] = y_pred\n",
    "    lgb_accuracy += [accuracy_score(test_label[attack_type], y_pred)]\n",
    "    \n",
    "mean_lgb_accuracy = np.mean(lgb_accuracy)\n",
    "    \n",
    "print(\"LGBM Classifier...\")\n",
    "print(\"Mean Accuracy score : \" + str(mean_lgb_accuracy))"
   ]
  },
  {
   "cell_type": "code",
   "execution_count": 19,
   "metadata": {},
   "outputs": [],
   "source": [
    "# XGBoost classifier\n",
    "\n",
    "import xgboost as xgb\n",
    "\n",
    "def getxgbclf(d_train, eval_list):\n",
    "    params = {'booster' : 'gbtree', 'nthread' : 4, 'eta' : 0.2, 'max_depth' : 6, 'min_child_weight' : 4,\n",
    "          'subsample' : 0.7, 'colsample_bytree' : 0.7, 'objective' : 'binary:logistic'}\n",
    "\n",
    "    clf = xgb.train(params, d_train, num_boost_round = 300, early_stopping_rounds = 100, \n",
    "                    evals = evallist, verbose_eval = False)\n",
    "    return clf"
   ]
  },
  {
   "cell_type": "code",
   "execution_count": 20,
   "metadata": {},
   "outputs": [
    {
     "name": "stdout",
     "output_type": "stream",
     "text": [
      "XGBoost Classifier...\n",
      "Mean Accuracy score : 0.9849125960440646\n"
     ]
    }
   ],
   "source": [
    "# training on XGBoost classifier\n",
    "\n",
    "xgb_accuracy = []\n",
    "\n",
    "for attack_type in attack_classes:\n",
    "    d_train = xgb.DMatrix(x_train, label = train_label[attack_type])\n",
    "    d_test = xgb.DMatrix(x_test, label = test_label[attack_type])\n",
    "    evallist = [(d_train, 'train'), (d_test, 'valid')]\n",
    "    clf = getxgbclf(d_train, evallist)\n",
    "    y_pred = (clf.predict(d_test) >= 0.5).astype(int)\n",
    "    stacked_train_df[attack_type]['xgb'] = (clf.predict(d_train) >= 0.5).astype(int)\n",
    "    stacked_test_df[attack_type]['xgb'] = y_pred\n",
    "    xgb_accuracy += [accuracy_score(test_label[attack_type], y_pred)]\n",
    "    \n",
    "mean_xgb_accuracy = np.mean(xgb_accuracy)\n",
    "    \n",
    "print(\"XGBoost Classifier...\")\n",
    "print(\"Mean Accuracy score : \" + str(mean_xgb_accuracy))"
   ]
  },
  {
   "cell_type": "markdown",
   "metadata": {},
   "source": [
    "<div><h3>Deep Learning Model</h3></div>"
   ]
  },
  {
   "cell_type": "code",
   "execution_count": 21,
   "metadata": {},
   "outputs": [],
   "source": [
    "# Deep Neural Network classifier\n",
    "\n",
    "def getdnnclf():\n",
    "    clf = Sequential()\n",
    "    clf.add(Dense(1024, input_dim = 41, activation = 'relu'))\n",
    "    clf.add(BatchNormalization())\n",
    "    clf.add(Dense(1024, activation = 'relu'))\n",
    "    clf.add(BatchNormalization())\n",
    "    clf.add(Dense(512, activation = 'relu'))\n",
    "    clf.add(Dense(64, activation = 'relu'))\n",
    "    clf.add(Dense(1, activation = 'sigmoid'))\n",
    "    clf.compile(loss = 'binary_crossentropy', optimizer = 'adam', metrics = ['accuracy'])\n",
    "    return clf"
   ]
  },
  {
   "cell_type": "code",
   "execution_count": 22,
   "metadata": {},
   "outputs": [
    {
     "name": "stdout",
     "output_type": "stream",
     "text": [
      "WARNING:tensorflow:From /opt/conda/lib/python3.6/site-packages/tensorflow/python/framework/op_def_library.py:263: colocate_with (from tensorflow.python.framework.ops) is deprecated and will be removed in a future version.\n",
      "Instructions for updating:\n",
      "Colocations handled automatically by placer.\n",
      "WARNING:tensorflow:From /opt/conda/lib/python3.6/site-packages/tensorflow/python/ops/math_ops.py:3066: to_int32 (from tensorflow.python.ops.math_ops) is deprecated and will be removed in a future version.\n",
      "Instructions for updating:\n",
      "Use tf.cast instead.\n",
      "Deep Neural Network Classifier...\n",
      "Mean Accuracy score : 0.9630808930169409\n"
     ]
    }
   ],
   "source": [
    "# training on DNN classifier\n",
    "\n",
    "dnn_accuracy = []\n",
    "\n",
    "for attack_type in attack_classes:\n",
    "    clf = getdnnclf()\n",
    "    clf.fit(x_train, train_label[attack_type], batch_size = 1024, epochs = 5, \n",
    "            validation_data = (x_test, test_label[attack_type]), verbose = 0)\n",
    "    y_pred = (clf.predict(x_test) >= 0.5).astype(int)\n",
    "    stacked_train_df[attack_type]['dnn'] = (clf.predict(x_train) >= 0.5).astype(int)\n",
    "    stacked_test_df[attack_type]['dnn'] = y_pred\n",
    "    dnn_accuracy += [accuracy_score(test_label[attack_type], y_pred)]\n",
    "    \n",
    "mean_dnn_accuracy = np.mean(dnn_accuracy)\n",
    "    \n",
    "print(\"Deep Neural Network Classifier...\")\n",
    "print(\"Mean Accuracy score : \" + str(mean_dnn_accuracy))"
   ]
  },
  {
   "cell_type": "markdown",
   "metadata": {},
   "source": [
    "<div><h3>Stacked Model</h3>\n",
    "    <p> Stacked Model contains all the models we have trained above as base learners. We will use a Logistic Regression classifier to combine the outputs of all the base learners to give a single output with greater accuracy.\n",
    "    </p>\n",
    "</div>"
   ]
  },
  {
   "cell_type": "code",
   "execution_count": 23,
   "metadata": {},
   "outputs": [
    {
     "name": "stdout",
     "output_type": "stream",
     "text": [
      "Stacked Classifier...\n",
      "Mean Accuracy score : 0.9848933100873268\n"
     ]
    }
   ],
   "source": [
    "# training on stacked classifier\n",
    "\n",
    "stacked_accuracy = []\n",
    "\n",
    "for attack_type in attack_classes:\n",
    "    clf = getLRClf()\n",
    "    clf.fit(stacked_train_df[attack_type], train_label[attack_type])\n",
    "    y_pred = clf.predict(stacked_test_df[attack_type])\n",
    "    stacked_accuracy += [accuracy_score(test_label[attack_type], y_pred)]\n",
    "    \n",
    "mean_stacked_accuracy = np.mean(stacked_accuracy)\n",
    "    \n",
    "print(\"Stacked Classifier...\")\n",
    "print(\"Mean Accuracy score : \" + str(mean_stacked_accuracy))"
   ]
  },
  {
   "cell_type": "markdown",
   "metadata": {},
   "source": [
    "<div><h3>Comparing Performances of all the models trained</h3></div>"
   ]
  },
  {
   "cell_type": "code",
   "execution_count": 24,
   "metadata": {},
   "outputs": [
    {
     "name": "stdout",
     "output_type": "stream",
     "text": [
      "               Average Accuracy Score\n",
      "Log Reg                      0.975424\n",
      "SGD                          0.930113\n",
      "LGBM                         0.983802\n",
      "XGBoost                      0.984913\n",
      "DNN                          0.963081\n",
      "Stacked Model                0.984893\n"
     ]
    }
   ],
   "source": [
    "# models comparison\n",
    "\n",
    "columns = ['Average Accuracy Score']\n",
    "rows = ['Log Reg', 'SGD', 'LGBM', 'XGBoost', 'DNN', 'Stacked Model']\n",
    "scores = [[mean_lr_accuracy], [mean_sgd_accuracy], [mean_lgb_accuracy], [mean_xgb_accuracy], \n",
    "          [mean_dnn_accuracy], [mean_stacked_accuracy]]\n",
    "\n",
    "table = pd.DataFrame(data = scores, columns = columns, index = rows)\n",
    "print(table)"
   ]
  },
  {
   "cell_type": "code",
   "execution_count": 25,
   "metadata": {},
   "outputs": [
    {
     "data": {
      "image/png": "[encoded data removed]",
      "text/plain": [
       "<Figure size 432x288 with 1 Axes>"
      ]
     },
     "metadata": {},
     "output_type": "display_data"
    }
   ],
   "source": [
    "# graphical comparison\n",
    "\n",
    "n_groups = 6\n",
    "acc = [item[0]-0.95 for item in scores]\n",
    "\n",
    "fig, ax = plt.subplots()\n",
    "index = np.arange(n_groups)\n",
    "bar_width = 0.30\n",
    "opacity = 0.8\n",
    " \n",
    "rects = plt.bar(index, acc, bar_width, alpha = opacity, align = 'center', label = 'Average Accuracy')\n",
    "\n",
    "plt.xlabel('Model')\n",
    "plt.ylabel('Average Accuracy Score')\n",
    "plt.title('Graphical Comparison of performances of all models')\n",
    "plt.xticks(index + bar_width, rows)\n",
    "plt.yticks([0.00, 0.01, 0.02, 0.03, 0.04, 0.05], [0.95, 0.96, 0.97, 0.98, 0.99, 1.00])\n",
    "plt.legend()\n",
    "\n",
    "fig = plt.tight_layout(rect = (0, 0, 1.4, 1.4))\n",
    "plt.show()"
   ]
  }
 ],
 "metadata": {
  "kernelspec": {
   "display_name": "Python 3",
   "language": "python",
   "name": "python3"
  },
  "language_info": {
   "codemirror_mode": {
    "name": "ipython",
    "version": 3
   },
   "file_extension": ".py",
   "mimetype": "text/x-python",
   "name": "python",
   "nbconvert_exporter": "python",
   "pygments_lexer": "ipython3",
   "version": "3.8.8"
  }
 },
 "nbformat": 4,
 "nbformat_minor": 1
}
